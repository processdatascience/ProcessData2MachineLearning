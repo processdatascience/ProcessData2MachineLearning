{
 "cells": [
  {
   "cell_type": "markdown",
   "id": "81f37f6d",
   "metadata": {
    "slideshow": {
     "slide_type": "slide"
    }
   },
   "source": [
    "# Predicting outcomes of running cases using decision trees\n",
    "Decision trees are objects that contain the conditions leading to a particular outcome of business process.\n",
    "In the following:\n",
    "1. A representation of the log, on a given set of features, is obtained\n",
    "2. A representation of the target classes is constructed\n",
    "3. decision tree is calculated\n",
    "4. decision tree is visualized\n",
    "\n",
    "\n",
    "## Import required Python libraries\n",
    "Before we start, first we need to import some programming libraries which we want to use."
   ]
  },
  {
   "cell_type": "code",
   "execution_count": 1,
   "id": "ae95d0a0",
   "metadata": {
    "slideshow": {
     "slide_type": "subslide"
    }
   },
   "outputs": [],
   "source": [
    "import pm4py # Process Mining\n",
    "from pm4py.objects.log.importer.xes import importer as xes_importer\n",
    "from pm4py.algo.filtering.log.end_activities import end_activities_filter\n",
    "from pm4py.algo.filtering.log.start_activities import start_activities_filter\n",
    "\n",
    "import numpy as np # Arrays\n",
    "import pandas as pd # Data frames and data management\n",
    "\n",
    "from sklearn import tree # Import Decision Tree Classifier\n",
    "#from sklearn.tree import DecisionTreeClassifier # Import Decision Tree Classifier\n",
    "from sklearn.model_selection import train_test_split # Import train_test_split function\n",
    "from sklearn import metrics #Import scikit-learn metrics module for accuracy calculation\n",
    "\n",
    "#from tabulate import tabulate"
   ]
  },
  {
   "cell_type": "markdown",
   "id": "61a36e7b",
   "metadata": {},
   "source": [
    "## Import event log and discover the process\n",
    "\n",
    "We import an event log, stored in the IEEE XES format, from a given file path to the log variable.\n",
    "The event log contains the process data that we need for our machine learning models."
   ]
  },
  {
   "cell_type": "code",
   "execution_count": null,
   "id": "ef8c6679",
   "metadata": {},
   "outputs": [
    {
     "data": {
      "application/vnd.jupyter.widget-view+json": {
       "model_id": "46db71bb68a544a1b43084ac3f6c756a",
       "version_major": 2,
       "version_minor": 0
      },
      "text/plain": [
       "parsing log, completed traces ::   0%|          | 0/20229 [00:00<?, ?it/s]"
      ]
     },
     "metadata": {},
     "output_type": "display_data"
    }
   ],
   "source": [
    "# import XES file\n",
    "variant = xes_importer.Variants.ITERPARSE\n",
    "parameters = {variant.value.Parameters.TIMESTAMP_SORT: True}\n",
    "\n",
    "log = xes_importer.apply('LoanApplicationTrimmed.xes', parameters=parameters)"
   ]
  },
  {
   "cell_type": "markdown",
   "id": "ec3ffecd",
   "metadata": {},
   "source": [
    "### Discover process as direct follows graph\n",
    "A visualization of the suitable process model according (as a direct follows graph) to the event log imported before. The process model describes the order of events/activities that are executed during a process execution."
   ]
  },
  {
   "cell_type": "code",
   "execution_count": null,
   "id": "5425793f",
   "metadata": {},
   "outputs": [],
   "source": [
    "# Create direct follows graph (dfg)\n",
    "dfg, start_activities, end_activities = pm4py.discover_dfg(log)\n",
    "pm4py.view_dfg(dfg, start_activities, end_activities)"
   ]
  },
  {
   "cell_type": "markdown",
   "id": "24c9773c",
   "metadata": {},
   "source": [
    "A loan application goes through a lifecycle consisting of the following states:\n",
    "- Application Created: a new application has been created via the website.\n",
    "- Submitted: a customer has submitted the application via the website. If the new application is created directly by the bank, this state is skipped.\n",
    "- Concept: the application is in the concept state, that means that the customer just submitted it (or the bank started it), and a first assessment has been done automatically. An employee calls the customer to complete the application.\n",
    "- Accepted: after the call with the customer, the application is completed and assessed again. If there is a possibility to make an offer, the state is accepted. The employee now creates one or more offers.\n",
    "- Complete: the offers have been sent to the customer and the bank waits for the customer to return a signed offer along with the rest of the documents (payslip, ID etc)\n",
    "- Validating: the offer and documents are received and checked.\n",
    "- Incomplete: if documents are not correct or some documents are still missing, the application state is set to 'incomplete', which means the customers needs to send in further documents.\n",
    "- Pending: if all documents are received and the assessment is positive, the loan is final and the customer is payed.\n",
    "- Denied: if somewhere in the process the loan cannot be offered to the customer, because the application does not fit the acceptance criteria, the application is declined, which results in the state 'denied'.\n",
    "- Cancelled: if the customer never sends in their documents or calls to tell they do not need the loan anymore, the application is cancelled.\n"
   ]
  },
  {
   "cell_type": "markdown",
   "id": "c035ce48",
   "metadata": {},
   "source": [
    "### How to access and print traces and events of the log\n",
    "Have a look on the data, i.e. attributes related to events and traces. These attributes are used for conditions in the decision trees."
   ]
  },
  {
   "cell_type": "code",
   "execution_count": null,
   "id": "a44e6865",
   "metadata": {},
   "outputs": [],
   "source": [
    "#print(log[0]) #prints the first trace of the log\n",
    "#print(log[0][0]) #prints the first event of the first trace"
   ]
  },
  {
   "cell_type": "markdown",
   "id": "56c7cf99",
   "metadata": {},
   "source": [
    "## Extract features and collect data from event log\n",
    "\n",
    "First we filter our process data.\n",
    "Event logs may have recordings of incomplete process executions. These incomplete traces are filtered out.\n",
    "We just want to focus on traces with final process outcomes.\n",
    "Relevant end activities are \"O_Cancelled\", \"O_Returned\", \"O_Accepted\""
   ]
  },
  {
   "cell_type": "code",
   "execution_count": null,
   "id": "6d2655bc",
   "metadata": {},
   "outputs": [],
   "source": [
    "# Filter the log for traces with end activities: \"O_Cancelled\", \"O_Returned\", \"O_Accepted\"\n",
    "log_End = pm4py.filter_end_activities(log, [\"O_Cancelled\", \"O_Returned\", \"O_Accepted\"])"
   ]
  },
  {
   "cell_type": "markdown",
   "id": "100610cc",
   "metadata": {},
   "source": [
    "Compare the following process model (in the form of a direct follows graph) with the one above. We only have three end activities"
   ]
  },
  {
   "cell_type": "code",
   "execution_count": null,
   "id": "c2c1b926",
   "metadata": {},
   "outputs": [],
   "source": [
    "# Create direct follows graph (dfg)\n",
    "dfg, start_activities, end_activities = pm4py.discover_dfg(log_End)\n",
    "pm4py.view_dfg(dfg, start_activities, end_activities)"
   ]
  },
  {
   "cell_type": "markdown",
   "id": "321359a8",
   "metadata": {},
   "source": [
    "### Select descriptive features\n",
    "Based on our log we select the set of descriptive features, i.e. the attributes of traces and events."
   ]
  },
  {
   "cell_type": "code",
   "execution_count": null,
   "id": "e77b2f2f",
   "metadata": {},
   "outputs": [],
   "source": [
    "from pm4py.algo.transformation.log_to_features import algorithm as log_to_features\n",
    "\n",
    "# manual representation of a log on a given set of features could be obtained.\n",
    "data, feature_names = log_to_features.apply(log_End, parameters={\"str_tr_attr\": [\"LoanGoal\"], \"str_ev_attr\": [\"concept:name\"], \"num_tr_attr\": [\"RequestedAmount\"], \"num_ev_attr\": []})\n",
    "print(\"Selected features: \", feature_names)"
   ]
  },
  {
   "cell_type": "markdown",
   "id": "e41887c4",
   "metadata": {},
   "source": [
    "Transfer the features into a Pandas dataframe that is used to train the decision tree."
   ]
  },
  {
   "cell_type": "code",
   "execution_count": null,
   "id": "30f3d026",
   "metadata": {},
   "outputs": [],
   "source": [
    "dataframe = pd.DataFrame(data, columns=feature_names)\n",
    "dataframe.head()"
   ]
  },
  {
   "cell_type": "markdown",
   "id": "65f53a57",
   "metadata": {},
   "source": [
    "### Select the target feature\n",
    "The target classes are formed. Each endpoint of the process belongs to a different class."
   ]
  },
  {
   "cell_type": "code",
   "execution_count": null,
   "id": "3870fab3",
   "metadata": {},
   "outputs": [],
   "source": [
    "from pm4py.objects.log.util import get_class_representation\n",
    "\n",
    "# select the target features\n",
    "target, classes = get_class_representation.get_class_representation_by_str_ev_attr_value_value(log_End, \"concept:name\")\n",
    "print(\"Classes: \", classes)"
   ]
  },
  {
   "cell_type": "markdown",
   "id": "2fba6210",
   "metadata": {},
   "source": [
    "## Create decision tree\n",
    "The decision tree is now calculated and visualized. A parameter is the performance `criterion` and the `max_depth`of the tree.\n",
    "Input for descriptive features is the data frame (with selected columns) and the target feature."
   ]
  },
  {
   "cell_type": "code",
   "execution_count": null,
   "id": "b1466a43",
   "metadata": {},
   "outputs": [],
   "source": [
    "clf = tree.DecisionTreeClassifier(criterion=\"entropy\", max_depth=2)\n",
    "\n",
    "clf.fit(dataframe[[\"event:concept:name@W_Call incomplete files\",\"trace:RequestedAmount\"]], target)\n",
    "feature_names = [\"event:concept:name@W_Call incomplete files\",\"trace:RequestedAmount\"]\n",
    "\n",
    "\n",
    "from pm4py.visualization.decisiontree import visualizer as dectree_visualizer\n",
    "gviz = dectree_visualizer.apply(clf, feature_names, classes)"
   ]
  },
  {
   "cell_type": "markdown",
   "id": "aa9f93af",
   "metadata": {},
   "source": [
    "The decision tree is visualized."
   ]
  },
  {
   "cell_type": "code",
   "execution_count": null,
   "id": "fbedc501",
   "metadata": {},
   "outputs": [],
   "source": [
    "from sklearn.tree import export_graphviz\n",
    "from six import StringIO  \n",
    "from IPython.display import Image  \n",
    "import pydotplus\n",
    "\n",
    "dot_data = StringIO()\n",
    "export_graphviz(clf, out_file=dot_data,  \n",
    "                filled=True, rounded=True,\n",
    "                special_characters=True,feature_names = feature_names,class_names=classes)\n",
    "graph = pydotplus.graph_from_dot_data(dot_data.getvalue()) \n",
    "Image(graph.create_png())"
   ]
  },
  {
   "cell_type": "markdown",
   "id": "35a16e54",
   "metadata": {},
   "source": [
    "## Predict the process outcome\n",
    "Create the prediction using the classifier.\n",
    "The following function requests as attributes the information, if there was a call in a (maybe incomplete) case and the request amount of the credit. In addition it requires the decision tree as classifier in order to make predictions."
   ]
  },
  {
   "cell_type": "code",
   "execution_count": null,
   "id": "1738d53f",
   "metadata": {},
   "outputs": [],
   "source": [
    "### Function for Predict the response for test dataset\n",
    "def predictOffer(callforincompletefiles, requestedAmount, clf):\n",
    "    if callforincompletefiles == \"yes\":\n",
    "        call = 1\n",
    "    if callforincompletefiles == \"no\":\n",
    "        call = 0    \n",
    "    x_test=[[call, requestedAmount]]\n",
    "    y_pred = clf.predict(x_test)\n",
    "    print(\"Predition: The offer might be\",classes[y_pred[0]])"
   ]
  },
  {
   "cell_type": "markdown",
   "id": "85d25a90",
   "metadata": {},
   "source": [
    "Make a prediction, for example for \"yes, there is a call for incomplete files\" (`call = \"yes\"`) and the requested amount of 10000 (`requestedAmount = 10000`)."
   ]
  },
  {
   "cell_type": "code",
   "execution_count": null,
   "id": "a9201d28",
   "metadata": {},
   "outputs": [],
   "source": [
    "callforincompletefiles = str(input('Are there calls for incomplete files? '))\n",
    "requestedAmount = int(input('What is the requested amount? '))\n",
    "predictOffer(callforincompletefiles, requestedAmount, clf)"
   ]
  }
 ],
 "metadata": {
  "kernelspec": {
   "display_name": "Python 3",
   "language": "python",
   "name": "python3"
  },
  "language_info": {
   "codemirror_mode": {
    "name": "ipython",
    "version": 3
   },
   "file_extension": ".py",
   "mimetype": "text/x-python",
   "name": "python",
   "nbconvert_exporter": "python",
   "pygments_lexer": "ipython3",
   "version": "3.8.8"
  }
 },
 "nbformat": 4,
 "nbformat_minor": 5
}
